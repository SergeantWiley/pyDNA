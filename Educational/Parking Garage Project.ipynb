{
 "cells": [
  {
   "cell_type": "markdown",
   "metadata": {},
   "source": [
    "# Parking Garage Project\n",
    "\n",
    "Your assignment for today is to create a parking garage class to get more familiar with Object Oriented Programming(OOP). \n",
    "\n",
    "Your parking gargage class should have the following methods:\n",
    "- takeTicket\n",
    "   - This should decrease the amount of tickets available by 1\n",
    "   - This should decrease the amount of parkingSpaces available by 1\n",
    "- payForParking\n",
    "   - Display an input that waits for an amount from the user and store it in a variable\n",
    "   - If the payment variable is not empty then ->  display a message to the user that their ticket has been paid and they have 15mins to leave\n",
    "   - This should update the \"currentTicket\" dictionary key \"paid\" to True\n",
    "-leaveGarage\n",
    "   - If the ticket has been paid, display a message of \"Thank You, have a nice day\"\n",
    "   - If the ticket has not been paid, display an input prompt for payment\n",
    "      - Once paid, display message \"Thank you, have a nice day!\"\n",
    "   - Update parkingSpaces list to increase by 1\n",
    "   - Update tickets list to increase by 1\n",
    "\n",
    "You will need a few attributes as well:\n",
    "- tickets -> list\n",
    "- parkingSpaces -> list\n",
    "- currentTicket -> dictionary"
   ]
  },
  {
   "cell_type": "code",
   "execution_count": 4,
   "metadata": {},
   "outputs": [
    {
     "name": "stdout",
     "output_type": "stream",
     "text": [
      "[(0, 0), (0, 1), (0, 2), (0, 3), (0, 4), (0, 5), (0, 6), (0, 7), (0, 8), (0, 9), (1, 0), (1, 1), (1, 2), (1, 3), (1, 4), (1, 5), (1, 6), (1, 7), (1, 8), (1, 9), (2, 0), (2, 1), (2, 2), (2, 3), (2, 4), (2, 5), (2, 6), (2, 7), (2, 8), (2, 9), (3, 0), (3, 1), (3, 2), (3, 3), (3, 4), (3, 5), (3, 6), (3, 7), (3, 8), (3, 9), (4, 0), (4, 1), (4, 2), (4, 3), (4, 4), (4, 5), (4, 6), (4, 7), (4, 8), (4, 9), (5, 0), (5, 1), (5, 2), (5, 3), (5, 4), (5, 5), (5, 6), (5, 7), (5, 8), (5, 9), (6, 0), (6, 1), (6, 2), (6, 3), (6, 4), (6, 5), (6, 6), (6, 7), (6, 8), (6, 9), (7, 0), (7, 1), (7, 2), (7, 3), (7, 4), (7, 5), (7, 6), (7, 7), (7, 8), (7, 9), (8, 0), (8, 1), (8, 2), (8, 3), (8, 4), (8, 5), (8, 6), (8, 7), (8, 8), (8, 9), (9, 0), (9, 1), (9, 2), (9, 3), (9, 4), (9, 5), (9, 6), (9, 7), (9, 8), (9, 9)]\n",
      "Your ticket number is:\n",
      " [0,0]\n",
      "Invalid command\n",
      "Ending Ticket booth operation\n",
      "Displaying Ticket Numbers Closed\n",
      "[(0, 0)]\n"
     ]
    }
   ],
   "source": [
    "import pandas as pd\n",
    "import ast\n",
    "# I spent about an hour working on this because it was fun. I hope this still counts\n",
    "#This is a project up my alley so Im going to have some real fun\n",
    "# Whats in included? \n",
    "# Custom parking lot/garage size\n",
    "# Security. ╾━╤デ╦︻(▀̿Ĺ̯▀̿ ̿)\n",
    "class garage:\n",
    "    def generate_lot(x,y):\n",
    "        df = pd.DataFrame(True,index=range(x),columns=range(y)) # Generate a parking lot\n",
    "        return df\n",
    "\n",
    "    def flatten(df): # Flatten our lot into a single list\n",
    "        garage_list = df.values.tolist()\n",
    "        parking_spaces = []\n",
    "        for list in range(df.shape[0]):\n",
    "            for sub_list in range(df.shape[1]):\n",
    "                parking_spaces.append(garage_list[list][sub_list])\n",
    "        return parking_spaces\n",
    "    def take_ticket(df): #Take the ticket\n",
    "        open_spots = df[df == True].stack().index.tolist()\n",
    "        if len(open_spots) > 0: #Check if any spaces are open\n",
    "            print(open_spots)\n",
    "            pos = open_spots[0][0],open_spots[0][1]\n",
    "            df.at[pos] = False\n",
    "            print(\"Your ticket number is:\\n\",f\"[{pos[0]},{pos[1]}]\")\n",
    "    def parking_space_status(df,opened=True):\n",
    "        if opened:\n",
    "            print(\"Displaying Ticket Numbers Opened\")\n",
    "            open_spots = df[df == True].stack().index.tolist()\n",
    "            return open_spots\n",
    "        else:\n",
    "            print(\"Displaying Ticket Numbers Closed\")\n",
    "            closed_spots = df[df == False].stack().index.tolist()\n",
    "            return closed_spots\n",
    "    def pay_ticket(df,pos): \n",
    "        if df.at[pos[0],pos[1]] == False:\n",
    "            print(\"You now have 15 minutes before we sell the car for scrap\")\n",
    "            df.at[pos[0],pos[1]] = True\n",
    "        else:\n",
    "            print(\"( -_•)▄︻デ══━一\", \"Didnt Work. Might want to try again\") \n",
    "            garage.ticket_booth(df) \n",
    "    def ticket_booth(df):\n",
    "        entry = input(\"Take or pay?\")\n",
    "        if entry.lower() == 'take': \n",
    "            garage.take_ticket(df)\n",
    "            garage.ticket_booth(df)\n",
    "        elif entry.lower() == 'pay':\n",
    "            pos = input(\"Please Enter your ticket number as [x,y]\")\n",
    "            pos = ast.literal_eval(pos)\n",
    "            garage.pay_ticket(df,pos)\n",
    "            garage.ticket_booth(df)\n",
    "        elif entry.lower() == 'quit':\n",
    "            print(\"Ending Ticket booth operation\")\n",
    "        else:\n",
    "            print(\"Invalid command\")\n",
    "            garage.ticket_booth(df)\n",
    "#How to use\n",
    "# 1. Generate a lot \n",
    "#Example\n",
    "df = garage.generate_lot(10,10)\n",
    "# 2. Start the ticket booth\n",
    "#Example - Type quit to end the booths operation\n",
    "garage.ticket_booth(df)\n",
    "# 3. Print any changes or statuses\n",
    "print(garage.parking_space_status(df,False))"
   ]
  },
  {
   "cell_type": "code",
   "execution_count": null,
   "metadata": {},
   "outputs": [],
   "source": []
  }
 ],
 "metadata": {
  "kernelspec": {
   "display_name": "Python 3",
   "language": "python",
   "name": "python3"
  },
  "language_info": {
   "codemirror_mode": {
    "name": "ipython",
    "version": 3
   },
   "file_extension": ".py",
   "mimetype": "text/x-python",
   "name": "python",
   "nbconvert_exporter": "python",
   "pygments_lexer": "ipython3",
   "version": "3.11.5"
  }
 },
 "nbformat": 4,
 "nbformat_minor": 2
}
